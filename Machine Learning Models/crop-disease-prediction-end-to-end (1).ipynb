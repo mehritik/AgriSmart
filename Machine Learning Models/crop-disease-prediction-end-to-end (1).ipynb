{
 "cells": [
  {
   "cell_type": "markdown",
   "id": "db4ab3c9",
   "metadata": {
    "papermill": {
     "duration": 0.007328,
     "end_time": "2023-03-31T09:19:47.292207",
     "exception": false,
     "start_time": "2023-03-31T09:19:47.284879",
     "status": "completed"
    },
    "tags": []
   },
   "source": [
    "## Setup"
   ]
  },
  {
   "cell_type": "code",
   "execution_count": 1,
   "id": "e558f4e4",
   "metadata": {
    "execution": {
     "iopub.execute_input": "2023-03-31T09:19:47.307403Z",
     "iopub.status.busy": "2023-03-31T09:19:47.306508Z",
     "iopub.status.idle": "2023-03-31T09:19:57.567344Z",
     "shell.execute_reply": "2023-03-31T09:19:57.565844Z"
    },
    "papermill": {
     "duration": 10.272013,
     "end_time": "2023-03-31T09:19:57.570480",
     "exception": false,
     "start_time": "2023-03-31T09:19:47.298467",
     "status": "completed"
    },
    "tags": []
   },
   "outputs": [],
   "source": [
    "import tensorflow as tf\n",
    "from tensorflow import keras\n",
    "\n",
    "import matplotlib.pyplot as plt\n",
    "import numpy as np\n",
    "\n",
    "import os"
   ]
  },
  {
   "cell_type": "code",
   "execution_count": 2,
   "id": "6bf8ff9c",
   "metadata": {
    "execution": {
     "iopub.execute_input": "2023-03-31T09:19:57.585451Z",
     "iopub.status.busy": "2023-03-31T09:19:57.584612Z",
     "iopub.status.idle": "2023-03-31T09:19:57.593596Z",
     "shell.execute_reply": "2023-03-31T09:19:57.592044Z"
    },
    "papermill": {
     "duration": 0.019659,
     "end_time": "2023-03-31T09:19:57.596452",
     "exception": false,
     "start_time": "2023-03-31T09:19:57.576793",
     "status": "completed"
    },
    "tags": []
   },
   "outputs": [],
   "source": [
    "image_size = 224\n",
    "target_size = (image_size, image_size)\n",
    "input_shape = (image_size, image_size, 3)\n",
    "\n",
    "batch_size = 32\n",
    "epochs = 25"
   ]
  },
  {
   "cell_type": "markdown",
   "id": "6100d1c8",
   "metadata": {
    "papermill": {
     "duration": 0.006887,
     "end_time": "2023-03-31T09:19:57.609535",
     "exception": false,
     "start_time": "2023-03-31T09:19:57.602648",
     "status": "completed"
    },
    "tags": []
   },
   "source": [
    "## Get data\n",
    "\n",
    "In order to make the most of our few training examples, we will \"augment\" them via a number of random transformations, so that our model would never see twice the exact same picture. This helps prevent overfitting and helps the model generalize better.\n",
    "\n",
    "In TensorFlow this can be done via the `tf.keras.preprocessing.image.ImageDataGenerator` class. This class allows you to:\n",
    "\n",
    "- configure random transformations and normalization operations to be done on your image data during training\n",
    "- instantiate generators of augmented image batches (and their labels) via `.flow(data, labels)` or `.flow_from_directory(directory)`. These generators can then be used with the `tf.keras` model methods that accept data generators as inputs, `fit`, `evaluate` and `predict`."
   ]
  },
  {
   "cell_type": "code",
   "execution_count": 3,
   "id": "483df90c",
   "metadata": {
    "execution": {
     "iopub.execute_input": "2023-03-31T09:19:57.624376Z",
     "iopub.status.busy": "2023-03-31T09:19:57.623932Z",
     "iopub.status.idle": "2023-03-31T09:19:57.630107Z",
     "shell.execute_reply": "2023-03-31T09:19:57.628774Z"
    },
    "papermill": {
     "duration": 0.016345,
     "end_time": "2023-03-31T09:19:57.632514",
     "exception": false,
     "start_time": "2023-03-31T09:19:57.616169",
     "status": "completed"
    },
    "tags": []
   },
   "outputs": [],
   "source": [
    "base_dir = \"../input/new-plant-diseases-dataset/new plant diseases dataset(augmented)/New Plant Diseases Dataset(Augmented)\"\n",
    "train_dir = os.path.join(base_dir,\"train\")\n",
    "test_dir = os.path.join(base_dir,\"valid\")"
   ]
  },
  {
   "cell_type": "markdown",
   "id": "0e29290f",
   "metadata": {
    "papermill": {
     "duration": 0.005911,
     "end_time": "2023-03-31T09:19:57.644683",
     "exception": false,
     "start_time": "2023-03-31T09:19:57.638772",
     "status": "completed"
    },
    "tags": []
   },
   "source": [
    "# Identify Plant Diseases\n",
    "\n",
    "We use the PlantVillage dataset [1] by Hughes et al. consists of about 87,000 healthy and unhealthy leaf images divided into 38 categories by species and disease. Here we provide a subset of our experiments on working with this data. We also end up transfer learning from MobileNet and use the weights from pre-training on ImageNet.\n",
    "\n",
    "* ![PlantVillage Dataset Samples](https://i.imgur.com/Zcxdrlc.png)\n",
    "Figure 1. PlantVillage Dataset Samples\n",
    "\n",
    "## Classes\n",
    "\n",
    "The following 38 classes are availaible in the dataset\n",
    "\n",
    "- `Apple___Apple_scab` \n",
    "- `Apple___Black_rot` \n",
    "- `Apple___Cedar_apple_rust` \n",
    "- `Apple___healthy` \n",
    "- `Blueberry___healthy` \n",
    "- `Cherry_(including_sour)___Powdery_mildew` \n",
    "- `Cherry_(including_sour)___healthy` \n",
    "- `Corn_(maize)___Cercospora_leaf_spot Gray_leaf_spot` \n",
    "- `Corn_(maize)___Common_rust_` \n",
    "- `Corn_(maize)___Northern_Leaf_Blight` \n",
    "- `Corn_(maize)___healthy', 'Grape___Black_rot` \n",
    "- `Grape___Leaf_blight_(Isariopsis_Leaf_Spot)` \n",
    "- `Grape___healthy` \n",
    "- `Orange___Haunglongbing_(Citrus_greening)` \n",
    "- `Peach___Bacterial_spot` \n",
    "- `Peach___healthy` \n",
    "- `Pepper,_bell___Bacterial_spot` \n",
    "- `Pepper,_bell___healthy` \n",
    "- `Potato___Early_blight` \n",
    "- `Potato___Late_blight` \n",
    "- `Potato___healthy` \n",
    "- `Raspberry___healthy` \n",
    "- `Soybean___healthy` \n",
    "- `Squash___Powdery_mildew` \n",
    "- `Strawberry___Leaf_scorch` \n",
    "- `Strawberry___healthy` \n",
    "- `Tomato___Bacterial_spot` \n",
    "- `Tomato___Late_blight` \n",
    "- `Tomato___Leaf_Mold` \n",
    "- `Tomato___Septoria_leaf_spot` \n",
    "- `Tomato___Spider_mites Two-spotted_spider_mite` \n",
    "- `Tomato___Target_Spot` \n",
    "- `Tomato___Tomato_Yellow_Leaf_Curl_Virus` \n",
    "- `Tomato___Tomato_mosaic_virus` \n",
    "- `Tomato___healthy`\n",
    "\n",
    "## References\n",
    "\n",
    "[1] Hughes, David P., and Marcel Salathe. “An Open Access Repository of Images on Plant Health to Enable the Development of Mobile Disease Diagnostics.” ArXiv:1511.08060 [Cs], Apr. 2016. arXiv.org, http://arxiv.org/abs/1511.08060.\n",
    "\n",
    "[2] Howard, Andrew G., et al. “MobileNets: Efficient Convolutional Neural Networks for Mobile Vision Applications.” ArXiv:1704.04861 [Cs], Apr. 2017. arXiv.org, http://arxiv.org/abs/1704.04861.\n"
   ]
  },
  {
   "cell_type": "markdown",
   "id": "d2a24b10",
   "metadata": {
    "papermill": {
     "duration": 0.005865,
     "end_time": "2023-03-31T09:19:57.656686",
     "exception": false,
     "start_time": "2023-03-31T09:19:57.650821",
     "status": "completed"
    },
    "tags": []
   },
   "source": [
    "We make the following augmentations to the images:\n",
    "\n",
    "- `width_shift` and `height_shift` are ranges (as a fraction of total width or height) within which to randomly translate pictures vertically or horizontally\n",
    "- `rescale` is a value by which we will multiply the data before any other processing. Our original images consist in RGB coefficients in the 0-255, but such values would be too high for our models to process (given a typical learning rate), so we target values between 0 and 1 instead by scaling with a 1/255. factor.\n",
    "- `shear_range` is for randomly applying shearing transformations\n",
    "- `zoom_range` is for randomly zooming inside pictures\n",
    "- `fill_mode` is the strategy used for filling in newly created pixels, which can appear after a rotation or a width/height shift."
   ]
  },
  {
   "cell_type": "code",
   "execution_count": 4,
   "id": "46a278ec",
   "metadata": {
    "execution": {
     "iopub.execute_input": "2023-03-31T09:19:57.671099Z",
     "iopub.status.busy": "2023-03-31T09:19:57.670624Z",
     "iopub.status.idle": "2023-03-31T09:19:57.677676Z",
     "shell.execute_reply": "2023-03-31T09:19:57.676504Z"
    },
    "papermill": {
     "duration": 0.017046,
     "end_time": "2023-03-31T09:19:57.680102",
     "exception": false,
     "start_time": "2023-03-31T09:19:57.663056",
     "status": "completed"
    },
    "tags": []
   },
   "outputs": [],
   "source": [
    "train_datagen = keras.preprocessing.image.ImageDataGenerator(rescale = 1/255.0,\n",
    "                                                             shear_range = 0.2,\n",
    "                                                             zoom_range = 0.2,\n",
    "                                                             width_shift_range = 0.2,\n",
    "                                                             height_shift_range = 0.2,\n",
    "                                                             fill_mode=\"nearest\")\n",
    "\n",
    "test_datagen = keras.preprocessing.image.ImageDataGenerator(rescale = 1/255.0)"
   ]
  },
  {
   "cell_type": "markdown",
   "id": "2e6ce2e3",
   "metadata": {
    "papermill": {
     "duration": 0.005746,
     "end_time": "2023-03-31T09:19:57.692107",
     "exception": false,
     "start_time": "2023-03-31T09:19:57.686361",
     "status": "completed"
    },
    "tags": []
   },
   "source": [
    "Let's prepare our data. We will use `.flow_from_directory()` to generate batches of image data (and their labels) directly from our images in their respective folders."
   ]
  },
  {
   "cell_type": "code",
   "execution_count": 5,
   "id": "f40656d6",
   "metadata": {
    "execution": {
     "iopub.execute_input": "2023-03-31T09:19:57.706710Z",
     "iopub.status.busy": "2023-03-31T09:19:57.705843Z",
     "iopub.status.idle": "2023-03-31T09:20:50.946617Z",
     "shell.execute_reply": "2023-03-31T09:20:50.945278Z"
    },
    "papermill": {
     "duration": 53.251586,
     "end_time": "2023-03-31T09:20:50.949652",
     "exception": false,
     "start_time": "2023-03-31T09:19:57.698066",
     "status": "completed"
    },
    "tags": []
   },
   "outputs": [
    {
     "name": "stdout",
     "output_type": "stream",
     "text": [
      "Found 70295 images belonging to 38 classes.\n",
      "Found 17572 images belonging to 38 classes.\n"
     ]
    }
   ],
   "source": [
    "train_data = train_datagen.flow_from_directory(train_dir,\n",
    "                                               target_size = (image_size, image_size),\n",
    "                                               batch_size = batch_size,\n",
    "                                               class_mode = \"categorical\")\n",
    "\n",
    "test_data = test_datagen.flow_from_directory(test_dir,\n",
    "                                             target_size = (image_size, image_size),\n",
    "                                             batch_size = batch_size,\n",
    "                                             class_mode = \"categorical\")"
   ]
  },
  {
   "cell_type": "markdown",
   "id": "f16b1fca",
   "metadata": {
    "papermill": {
     "duration": 0.005983,
     "end_time": "2023-03-31T09:20:50.962355",
     "exception": false,
     "start_time": "2023-03-31T09:20:50.956372",
     "status": "completed"
    },
    "tags": []
   },
   "source": [
    "## Create a classes index file\n",
    "\n",
    "We also want to know which class corresponds to which species and disease so we also create a `json` file which shows corresponding labels and class indices."
   ]
  },
  {
   "cell_type": "code",
   "execution_count": 6,
   "id": "481b3766",
   "metadata": {
    "execution": {
     "iopub.execute_input": "2023-03-31T09:20:50.977238Z",
     "iopub.status.busy": "2023-03-31T09:20:50.976472Z",
     "iopub.status.idle": "2023-03-31T09:20:50.982689Z",
     "shell.execute_reply": "2023-03-31T09:20:50.981176Z"
    },
    "papermill": {
     "duration": 0.016832,
     "end_time": "2023-03-31T09:20:50.985339",
     "exception": false,
     "start_time": "2023-03-31T09:20:50.968507",
     "status": "completed"
    },
    "tags": []
   },
   "outputs": [
    {
     "name": "stdout",
     "output_type": "stream",
     "text": [
      "{'Apple___Apple_scab': 0, 'Apple___Black_rot': 1, 'Apple___Cedar_apple_rust': 2, 'Apple___healthy': 3, 'Blueberry___healthy': 4, 'Cherry_(including_sour)___Powdery_mildew': 5, 'Cherry_(including_sour)___healthy': 6, 'Corn_(maize)___Cercospora_leaf_spot Gray_leaf_spot': 7, 'Corn_(maize)___Common_rust_': 8, 'Corn_(maize)___Northern_Leaf_Blight': 9, 'Corn_(maize)___healthy': 10, 'Grape___Black_rot': 11, 'Grape___Esca_(Black_Measles)': 12, 'Grape___Leaf_blight_(Isariopsis_Leaf_Spot)': 13, 'Grape___healthy': 14, 'Orange___Haunglongbing_(Citrus_greening)': 15, 'Peach___Bacterial_spot': 16, 'Peach___healthy': 17, 'Pepper,_bell___Bacterial_spot': 18, 'Pepper,_bell___healthy': 19, 'Potato___Early_blight': 20, 'Potato___Late_blight': 21, 'Potato___healthy': 22, 'Raspberry___healthy': 23, 'Soybean___healthy': 24, 'Squash___Powdery_mildew': 25, 'Strawberry___Leaf_scorch': 26, 'Strawberry___healthy': 27, 'Tomato___Bacterial_spot': 28, 'Tomato___Early_blight': 29, 'Tomato___Late_blight': 30, 'Tomato___Leaf_Mold': 31, 'Tomato___Septoria_leaf_spot': 32, 'Tomato___Spider_mites Two-spotted_spider_mite': 33, 'Tomato___Target_Spot': 34, 'Tomato___Tomato_Yellow_Leaf_Curl_Virus': 35, 'Tomato___Tomato_mosaic_virus': 36, 'Tomato___healthy': 37}\n"
     ]
    }
   ],
   "source": [
    "categories = list(train_data.class_indices.keys())\n",
    "print(train_data.class_indices)"
   ]
  },
  {
   "cell_type": "code",
   "execution_count": 7,
   "id": "f3e056be",
   "metadata": {
    "execution": {
     "iopub.execute_input": "2023-03-31T09:20:51.000364Z",
     "iopub.status.busy": "2023-03-31T09:20:50.999544Z",
     "iopub.status.idle": "2023-03-31T09:20:51.008611Z",
     "shell.execute_reply": "2023-03-31T09:20:51.007388Z"
    },
    "papermill": {
     "duration": 0.019436,
     "end_time": "2023-03-31T09:20:51.011179",
     "exception": false,
     "start_time": "2023-03-31T09:20:50.991743",
     "status": "completed"
    },
    "tags": []
   },
   "outputs": [
    {
     "data": {
      "text/html": [
       "<a href='class_indices.json' target='_blank'>class_indices.json</a><br>"
      ],
      "text/plain": [
       "/kaggle/working/class_indices.json"
      ]
     },
     "execution_count": 7,
     "metadata": {},
     "output_type": "execute_result"
    }
   ],
   "source": [
    "import json\n",
    "with open('class_indices.json','w') as f:\n",
    "  json.dump(train_data.class_indices, f)\n",
    "\n",
    "from IPython.display import FileLink\n",
    "FileLink(r'class_indices.json')"
   ]
  },
  {
   "cell_type": "markdown",
   "id": "d9333466",
   "metadata": {
    "papermill": {
     "duration": 0.006992,
     "end_time": "2023-03-31T09:20:51.024741",
     "exception": false,
     "start_time": "2023-03-31T09:20:51.017749",
     "status": "completed"
    },
    "tags": []
   },
   "source": [
    "## Training\n",
    "\n",
    "We first get the base MobileNet model without including the top layers since we want to use it for 38 classes and us the pre-trained weights for ImageNet."
   ]
  },
  {
   "cell_type": "code",
   "execution_count": 8,
   "id": "d915e531",
   "metadata": {
    "execution": {
     "iopub.execute_input": "2023-03-31T09:20:51.039778Z",
     "iopub.status.busy": "2023-03-31T09:20:51.038949Z",
     "iopub.status.idle": "2023-03-31T09:20:52.496137Z",
     "shell.execute_reply": "2023-03-31T09:20:52.494742Z"
    },
    "papermill": {
     "duration": 1.468248,
     "end_time": "2023-03-31T09:20:52.499338",
     "exception": false,
     "start_time": "2023-03-31T09:20:51.031090",
     "status": "completed"
    },
    "tags": []
   },
   "outputs": [
    {
     "name": "stdout",
     "output_type": "stream",
     "text": [
      "Downloading data from https://storage.googleapis.com/tensorflow/keras-applications/mobilenet/mobilenet_1_0_224_tf_no_top.h5\n",
      "17225924/17225924 [==============================] - 0s 0us/step\n"
     ]
    }
   ],
   "source": [
    "base_model = tf.keras.applications.MobileNet(weights = \"imagenet\",\n",
    "                                             include_top = False,\n",
    "                                             input_shape = input_shape)\n",
    "\n",
    "base_model.trainable = False"
   ]
  },
  {
   "cell_type": "markdown",
   "id": "48f30bac",
   "metadata": {
    "papermill": {
     "duration": 0.006822,
     "end_time": "2023-03-31T09:20:52.513188",
     "exception": false,
     "start_time": "2023-03-31T09:20:52.506366",
     "status": "completed"
    },
    "tags": []
   },
   "source": [
    "We now create a small upstream model on top of the MobileNet using the functional API"
   ]
  },
  {
   "cell_type": "code",
   "execution_count": 9,
   "id": "433319b7",
   "metadata": {
    "execution": {
     "iopub.execute_input": "2023-03-31T09:20:52.530773Z",
     "iopub.status.busy": "2023-03-31T09:20:52.530319Z",
     "iopub.status.idle": "2023-03-31T09:20:52.835303Z",
     "shell.execute_reply": "2023-03-31T09:20:52.833810Z"
    },
    "papermill": {
     "duration": 0.317515,
     "end_time": "2023-03-31T09:20:52.838267",
     "exception": false,
     "start_time": "2023-03-31T09:20:52.520752",
     "status": "completed"
    },
    "tags": []
   },
   "outputs": [],
   "source": [
    "inputs = keras.Input(shape = input_shape)\n",
    "\n",
    "x = base_model(inputs, training = False)\n",
    "x = tf.keras.layers.GlobalAveragePooling2D()(x)\n",
    "x = tf.keras.layers.Dropout(0.2)(x)\n",
    "x = tf.keras.layers.Dense(len(categories), \n",
    "                          activation=\"softmax\")(x)\n",
    "\n",
    "model = keras.Model(inputs = inputs, \n",
    "                    outputs = x, \n",
    "                    name=\"LeafDisease_MobileNet\")"
   ]
  },
  {
   "cell_type": "markdown",
   "id": "ff5d6e1c",
   "metadata": {
    "papermill": {
     "duration": 0.006617,
     "end_time": "2023-03-31T09:20:52.851822",
     "exception": false,
     "start_time": "2023-03-31T09:20:52.845205",
     "status": "completed"
    },
    "tags": []
   },
   "source": [
    "In our multiple experiments we found out Adam optimizer to work really well with it's default learning rate, $\\beta_1$, $\\beta_2$ and $\\epsilon$ values"
   ]
  },
  {
   "cell_type": "code",
   "execution_count": 10,
   "id": "afeb41ff",
   "metadata": {
    "execution": {
     "iopub.execute_input": "2023-03-31T09:20:52.867849Z",
     "iopub.status.busy": "2023-03-31T09:20:52.867408Z",
     "iopub.status.idle": "2023-03-31T09:20:52.895517Z",
     "shell.execute_reply": "2023-03-31T09:20:52.894120Z"
    },
    "papermill": {
     "duration": 0.039791,
     "end_time": "2023-03-31T09:20:52.898501",
     "exception": false,
     "start_time": "2023-03-31T09:20:52.858710",
     "status": "completed"
    },
    "tags": []
   },
   "outputs": [],
   "source": [
    "optimizer = tf.keras.optimizers.Adam()\n",
    "\n",
    "model.compile(optimizer = optimizer,\n",
    "              loss = tf.keras.losses.CategoricalCrossentropy(from_logits = True),\n",
    "              metrics=[keras.metrics.CategoricalAccuracy(), \n",
    "                       'accuracy'])"
   ]
  },
  {
   "cell_type": "code",
   "execution_count": 11,
   "id": "6a2dd8a5",
   "metadata": {
    "execution": {
     "iopub.execute_input": "2023-03-31T09:20:52.914752Z",
     "iopub.status.busy": "2023-03-31T09:20:52.914340Z",
     "iopub.status.idle": "2023-03-31T11:15:20.048243Z",
     "shell.execute_reply": "2023-03-31T11:15:20.046592Z"
    },
    "papermill": {
     "duration": 6867.41145,
     "end_time": "2023-03-31T11:15:20.316942",
     "exception": false,
     "start_time": "2023-03-31T09:20:52.905492",
     "status": "completed"
    },
    "tags": []
   },
   "outputs": [
    {
     "name": "stdout",
     "output_type": "stream",
     "text": [
      "Epoch 1/25\n"
     ]
    },
    {
     "name": "stderr",
     "output_type": "stream",
     "text": [
      "/opt/conda/lib/python3.7/site-packages/keras/backend.py:5535: UserWarning: \"`categorical_crossentropy` received `from_logits=True`, but the `output` argument was produced by a Softmax activation and thus does not represent logits. Was this intended?\n",
      "  output, from_logits, \"Softmax\", \"categorical_crossentropy\"\n"
     ]
    },
    {
     "name": "stdout",
     "output_type": "stream",
     "text": [
      "150/150 [==============================] - 251s 2s/step - loss: 2.0143 - categorical_accuracy: 0.4733 - accuracy: 0.4733 - val_loss: 0.8028 - val_categorical_accuracy: 0.8059 - val_accuracy: 0.8059\n",
      "Epoch 2/25\n",
      "150/150 [==============================] - 306s 2s/step - loss: 0.7898 - categorical_accuracy: 0.7773 - accuracy: 0.7773 - val_loss: 0.4978 - val_categorical_accuracy: 0.8606 - val_accuracy: 0.8606\n",
      "Epoch 3/25\n",
      "150/150 [==============================] - 307s 2s/step - loss: 0.5506 - categorical_accuracy: 0.8394 - accuracy: 0.8394 - val_loss: 0.4180 - val_categorical_accuracy: 0.8800 - val_accuracy: 0.8800\n",
      "Epoch 4/25\n",
      "150/150 [==============================] - 304s 2s/step - loss: 0.4819 - categorical_accuracy: 0.8562 - accuracy: 0.8562 - val_loss: 0.3369 - val_categorical_accuracy: 0.9016 - val_accuracy: 0.9016\n",
      "Epoch 5/25\n",
      "150/150 [==============================] - 243s 2s/step - loss: 0.3931 - categorical_accuracy: 0.8840 - accuracy: 0.8840 - val_loss: 0.2898 - val_categorical_accuracy: 0.9100 - val_accuracy: 0.9100\n",
      "Epoch 6/25\n",
      "150/150 [==============================] - 241s 2s/step - loss: 0.3666 - categorical_accuracy: 0.8904 - accuracy: 0.8904 - val_loss: 0.2507 - val_categorical_accuracy: 0.9237 - val_accuracy: 0.9237\n",
      "Epoch 7/25\n",
      "150/150 [==============================] - 243s 2s/step - loss: 0.3341 - categorical_accuracy: 0.9004 - accuracy: 0.9004 - val_loss: 0.2497 - val_categorical_accuracy: 0.9247 - val_accuracy: 0.9247\n",
      "Epoch 8/25\n",
      "150/150 [==============================] - 240s 2s/step - loss: 0.3120 - categorical_accuracy: 0.9017 - accuracy: 0.9017 - val_loss: 0.2515 - val_categorical_accuracy: 0.9200 - val_accuracy: 0.9200\n",
      "Epoch 9/25\n",
      "150/150 [==============================] - 241s 2s/step - loss: 0.3194 - categorical_accuracy: 0.8994 - accuracy: 0.8994 - val_loss: 0.2334 - val_categorical_accuracy: 0.9269 - val_accuracy: 0.9269\n",
      "Epoch 10/25\n",
      "150/150 [==============================] - 301s 2s/step - loss: 0.2693 - categorical_accuracy: 0.9165 - accuracy: 0.9165 - val_loss: 0.2029 - val_categorical_accuracy: 0.9384 - val_accuracy: 0.9384\n",
      "Epoch 11/25\n",
      "150/150 [==============================] - 239s 2s/step - loss: 0.2577 - categorical_accuracy: 0.9198 - accuracy: 0.9198 - val_loss: 0.2038 - val_categorical_accuracy: 0.9303 - val_accuracy: 0.9303\n",
      "Epoch 12/25\n",
      "150/150 [==============================] - 240s 2s/step - loss: 0.2748 - categorical_accuracy: 0.9129 - accuracy: 0.9129 - val_loss: 0.1801 - val_categorical_accuracy: 0.9434 - val_accuracy: 0.9434\n",
      "Epoch 13/25\n",
      "150/150 [==============================] - 238s 2s/step - loss: 0.2581 - categorical_accuracy: 0.9187 - accuracy: 0.9187 - val_loss: 0.1855 - val_categorical_accuracy: 0.9413 - val_accuracy: 0.9413\n",
      "Epoch 14/25\n",
      "150/150 [==============================] - 238s 2s/step - loss: 0.2411 - categorical_accuracy: 0.9225 - accuracy: 0.9225 - val_loss: 0.1832 - val_categorical_accuracy: 0.9378 - val_accuracy: 0.9378\n",
      "Epoch 15/25\n",
      "150/150 [==============================] - 298s 2s/step - loss: 0.2572 - categorical_accuracy: 0.9169 - accuracy: 0.9169 - val_loss: 0.2132 - val_categorical_accuracy: 0.9272 - val_accuracy: 0.9272\n",
      "Epoch 16/25\n",
      "150/150 [==============================] - 299s 2s/step - loss: 0.2339 - categorical_accuracy: 0.9229 - accuracy: 0.9229 - val_loss: 0.1823 - val_categorical_accuracy: 0.9362 - val_accuracy: 0.9362\n",
      "Epoch 17/25\n",
      "150/150 [==============================] - 300s 2s/step - loss: 0.2301 - categorical_accuracy: 0.9232 - accuracy: 0.9232 - val_loss: 0.1768 - val_categorical_accuracy: 0.9453 - val_accuracy: 0.9453\n",
      "Epoch 18/25\n",
      "150/150 [==============================] - 239s 2s/step - loss: 0.2289 - categorical_accuracy: 0.9265 - accuracy: 0.9265 - val_loss: 0.1736 - val_categorical_accuracy: 0.9422 - val_accuracy: 0.9422\n",
      "Epoch 19/25\n",
      "150/150 [==============================] - 236s 2s/step - loss: 0.2379 - categorical_accuracy: 0.9246 - accuracy: 0.9246 - val_loss: 0.1847 - val_categorical_accuracy: 0.9397 - val_accuracy: 0.9397\n",
      "Epoch 20/25\n",
      "150/150 [==============================] - 237s 2s/step - loss: 0.2190 - categorical_accuracy: 0.9281 - accuracy: 0.9281 - val_loss: 0.1639 - val_categorical_accuracy: 0.9456 - val_accuracy: 0.9456\n",
      "Epoch 21/25\n",
      "150/150 [==============================] - 231s 2s/step - loss: 0.2388 - categorical_accuracy: 0.9227 - accuracy: 0.9227 - val_loss: 0.1813 - val_categorical_accuracy: 0.9391 - val_accuracy: 0.9391\n",
      "Epoch 22/25\n",
      "150/150 [==============================] - 235s 2s/step - loss: 0.2167 - categorical_accuracy: 0.9281 - accuracy: 0.9281 - val_loss: 0.1689 - val_categorical_accuracy: 0.9413 - val_accuracy: 0.9413\n",
      "Epoch 23/25\n",
      "150/150 [==============================] - 234s 2s/step - loss: 0.2065 - categorical_accuracy: 0.9340 - accuracy: 0.9340 - val_loss: 0.1786 - val_categorical_accuracy: 0.9416 - val_accuracy: 0.9416\n",
      "Epoch 24/25\n",
      "150/150 [==============================] - 233s 2s/step - loss: 0.2149 - categorical_accuracy: 0.9269 - accuracy: 0.9269 - val_loss: 0.1273 - val_categorical_accuracy: 0.9606 - val_accuracy: 0.9606\n",
      "Epoch 25/25\n",
      "150/150 [==============================] - 233s 2s/step - loss: 0.2119 - categorical_accuracy: 0.9304 - accuracy: 0.9304 - val_loss: 0.1556 - val_categorical_accuracy: 0.9500 - val_accuracy: 0.9500\n"
     ]
    }
   ],
   "source": [
    "history = model.fit(train_data,\n",
    "                    validation_data=test_data,\n",
    "                    epochs=epochs,\n",
    "                    steps_per_epoch=150,\n",
    "                    validation_steps=100)"
   ]
  },
  {
   "cell_type": "markdown",
   "id": "9646b462",
   "metadata": {
    "papermill": {
     "duration": 0.253382,
     "end_time": "2023-03-31T11:15:20.827310",
     "exception": false,
     "start_time": "2023-03-31T11:15:20.573928",
     "status": "completed"
    },
    "tags": []
   },
   "source": [
    "## Review the training process"
   ]
  },
  {
   "cell_type": "code",
   "execution_count": 12,
   "id": "bc309ac3",
   "metadata": {
    "execution": {
     "iopub.execute_input": "2023-03-31T11:15:21.337791Z",
     "iopub.status.busy": "2023-03-31T11:15:21.335932Z",
     "iopub.status.idle": "2023-03-31T11:15:21.641069Z",
     "shell.execute_reply": "2023-03-31T11:15:21.639661Z"
    },
    "papermill": {
     "duration": 0.564475,
     "end_time": "2023-03-31T11:15:21.643968",
     "exception": false,
     "start_time": "2023-03-31T11:15:21.079493",
     "status": "completed"
    },
    "tags": []
   },
   "outputs": [
    {
     "data": {
      "text/plain": [
       "<matplotlib.legend.Legend at 0x7fd9b4ff8d50>"
      ]
     },
     "execution_count": 12,
     "metadata": {},
     "output_type": "execute_result"
    },
    {
     "data": {
      "image/png": "[encoded data removed]",
      "text/plain": [
       "<Figure size 1000x600 with 1 Axes>"
      ]
     },
     "metadata": {},
     "output_type": "display_data"
    }
   ],
   "source": [
    "loss = history.history['loss']\n",
    "val_loss = history.history['val_loss']\n",
    "\n",
    "epochs = range(len(loss))\n",
    "\n",
    "fig = plt.figure(figsize=(10,6))\n",
    "plt.plot(epochs,loss,c=\"red\",label=\"Training\")\n",
    "plt.plot(epochs,val_loss,c=\"blue\",label=\"Validation\")\n",
    "plt.xlabel(\"Epochs\")\n",
    "plt.ylabel(\"Loss\")\n",
    "plt.legend()"
   ]
  },
  {
   "cell_type": "code",
   "execution_count": 13,
   "id": "d706088f",
   "metadata": {
    "execution": {
     "iopub.execute_input": "2023-03-31T11:15:22.155578Z",
     "iopub.status.busy": "2023-03-31T11:15:22.155146Z",
     "iopub.status.idle": "2023-03-31T11:15:22.439211Z",
     "shell.execute_reply": "2023-03-31T11:15:22.437716Z"
    },
    "papermill": {
     "duration": 0.54465,
     "end_time": "2023-03-31T11:15:22.442117",
     "exception": false,
     "start_time": "2023-03-31T11:15:21.897467",
     "status": "completed"
    },
    "tags": []
   },
   "outputs": [
    {
     "data": {
      "text/plain": [
       "<matplotlib.legend.Legend at 0x7fd9b4f6a650>"
      ]
     },
     "execution_count": 13,
     "metadata": {},
     "output_type": "execute_result"
    },
    {
     "data": {
      "image/png": "[encoded data removed]",
      "text/plain": [
       "<Figure size 1000x600 with 1 Axes>"
      ]
     },
     "metadata": {},
     "output_type": "display_data"
    }
   ],
   "source": [
    "acc = history.history['categorical_accuracy']\n",
    "val_acc = history.history['val_categorical_accuracy']\n",
    "\n",
    "epochs = range(len(acc))\n",
    "\n",
    "fig = plt.figure(figsize=(10,6))\n",
    "plt.plot(epochs,acc,c=\"red\",label=\"Training\")\n",
    "plt.plot(epochs,val_acc,c=\"blue\",label=\"Validation\")\n",
    "plt.xlabel(\"Epochs\")\n",
    "plt.ylabel(\"Accuracy\")\n",
    "plt.legend()"
   ]
  },
  {
   "cell_type": "markdown",
   "id": "463cda02",
   "metadata": {
    "papermill": {
     "duration": 0.255082,
     "end_time": "2023-03-31T11:15:22.959380",
     "exception": false,
     "start_time": "2023-03-31T11:15:22.704298",
     "status": "completed"
    },
    "tags": []
   },
   "source": [
    "## Save the model\n",
    "We finally save the model in the standard TensorFlow 2 SavedModel format."
   ]
  },
  {
   "cell_type": "code",
   "execution_count": 14,
   "id": "0067dc1a",
   "metadata": {
    "execution": {
     "iopub.execute_input": "2023-03-31T11:15:23.566227Z",
     "iopub.status.busy": "2023-03-31T11:15:23.565314Z",
     "iopub.status.idle": "2023-03-31T11:15:37.341767Z",
     "shell.execute_reply": "2023-03-31T11:15:37.340126Z"
    },
    "papermill": {
     "duration": 14.11882,
     "end_time": "2023-03-31T11:15:37.345403",
     "exception": false,
     "start_time": "2023-03-31T11:15:23.226583",
     "status": "completed"
    },
    "tags": []
   },
   "outputs": [],
   "source": [
    "model.save('plant_disease')"
   ]
  },
  {
   "cell_type": "markdown",
   "id": "f69e55c7",
   "metadata": {
    "papermill": {
     "duration": 0.259573,
     "end_time": "2023-03-31T11:15:37.876132",
     "exception": false,
     "start_time": "2023-03-31T11:15:37.616559",
     "status": "completed"
    },
    "tags": []
   },
   "source": [
    "## Converting to tflite Model"
   ]
  },
  {
   "cell_type": "code",
   "execution_count": 15,
   "id": "d31d4b9b",
   "metadata": {
    "execution": {
     "iopub.execute_input": "2023-03-31T11:15:38.408345Z",
     "iopub.status.busy": "2023-03-31T11:15:38.407891Z",
     "iopub.status.idle": "2023-03-31T11:16:01.705478Z",
     "shell.execute_reply": "2023-03-31T11:16:01.703962Z"
    },
    "papermill": {
     "duration": 23.568069,
     "end_time": "2023-03-31T11:16:01.708527",
     "exception": false,
     "start_time": "2023-03-31T11:15:38.140458",
     "status": "completed"
    },
    "tags": []
   },
   "outputs": [],
   "source": [
    "import tensorflow as tf\n",
    "\n",
    "# Convert the model\n",
    "converter = tf.lite.TFLiteConverter.from_keras_model(model)\n",
    "tflite_model = converter.convert()\n",
    "\n",
    "# Save the TFLite model\n",
    "with open('model.tflite', 'wb') as f:\n",
    "    f.write(tflite_model)"
   ]
  }
 ],
 "metadata": {
  "kernelspec": {
   "display_name": "Python 3",
   "language": "python",
   "name": "python3"
  },
  "language_info": {
   "codemirror_mode": {
    "name": "ipython",
    "version": 3
   },
   "file_extension": ".py",
   "mimetype": "text/x-python",
   "name": "python",
   "nbconvert_exporter": "python",
   "pygments_lexer": "ipython3",
   "version": "3.7.12"
  },
  "papermill": {
   "default_parameters": {},
   "duration": 6989.456024,
   "end_time": "2023-03-31T11:16:05.516788",
   "environment_variables": {},
   "exception": null,
   "input_path": "__notebook__.ipynb",
   "output_path": "__notebook__.ipynb",
   "parameters": {},
   "start_time": "2023-03-31T09:19:36.060764",
   "version": "2.4.0"
  }
 },
 "nbformat": 4,
 "nbformat_minor": 5
}
